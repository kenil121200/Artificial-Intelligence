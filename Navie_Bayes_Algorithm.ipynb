{
  "nbformat": 4,
  "nbformat_minor": 0,
  "metadata": {
    "colab": {
      "name": "Navie Bayes Algorithm.ipynb",
      "provenance": [],
      "authorship_tag": "ABX9TyOi9Iw/JD/DelsuQv3ShMC0",
      "include_colab_link": true
    },
    "kernelspec": {
      "name": "python3",
      "display_name": "Python 3"
    }
  },
  "cells": [
    {
      "cell_type": "markdown",
      "metadata": {
        "id": "view-in-github",
        "colab_type": "text"
      },
      "source": [
        "<a href=\"https://colab.research.google.com/github/kenil121200/Artificial-Intelligence/blob/master/Navie_Bayes_Algorithm.ipynb\" target=\"_parent\"><img src=\"https://colab.research.google.com/assets/colab-badge.svg\" alt=\"Open In Colab\"/></a>"
      ]
    },
    {
      "cell_type": "code",
      "metadata": {
        "id": "4ckPqkppaRHY"
      },
      "source": [
        "from sklearn import datasets\r\n",
        "from sklearn import metrics\r\n",
        "from sklearn.naive_bayes import GaussianNB\r\n"
      ],
      "execution_count": 1,
      "outputs": []
    },
    {
      "cell_type": "code",
      "metadata": {
        "id": "V6U42HuHamNt"
      },
      "source": [
        "dataset = datasets.load_iris()"
      ],
      "execution_count": 2,
      "outputs": []
    },
    {
      "cell_type": "code",
      "metadata": {
        "id": "a2P_bJXDar1Z"
      },
      "source": [
        "model = GaussianNB()\r\n",
        "model.fit(dataset.data, dataset.target)\r\n",
        "\r\n",
        "expected = dataset.target\r\n",
        "predicted = model.predict(dataset.data)"
      ],
      "execution_count": 4,
      "outputs": []
    },
    {
      "cell_type": "code",
      "metadata": {
        "colab": {
          "base_uri": "https://localhost:8080/",
          "height": 69
        },
        "id": "n6cXohTtave8",
        "outputId": "a11b1374-83bf-4b80-d55e-275b19552c3f"
      },
      "source": [
        "metrics.classification_report(expected, predicted)"
      ],
      "execution_count": 5,
      "outputs": [
        {
          "output_type": "execute_result",
          "data": {
            "application/vnd.google.colaboratory.intrinsic+json": {
              "type": "string"
            },
            "text/plain": [
              "'              precision    recall  f1-score   support\\n\\n           0       1.00      1.00      1.00        50\\n           1       0.94      0.94      0.94        50\\n           2       0.94      0.94      0.94        50\\n\\n    accuracy                           0.96       150\\n   macro avg       0.96      0.96      0.96       150\\nweighted avg       0.96      0.96      0.96       150\\n'"
            ]
          },
          "metadata": {
            "tags": []
          },
          "execution_count": 5
        }
      ]
    },
    {
      "cell_type": "code",
      "metadata": {
        "id": "jB3GU1bXbINL"
      },
      "source": [
        ""
      ],
      "execution_count": null,
      "outputs": []
    }
  ]
}